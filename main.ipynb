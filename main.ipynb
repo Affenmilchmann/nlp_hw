{
 "cells": [
  {
   "cell_type": "markdown",
   "metadata": {},
   "source": [
    "### Description of method\n",
    "- This notebook calculates normalized frequencies of each word from train sample.\n",
    "    - Norlamized frequency = `count(word) / count(all_words)`\n",
    "    - It is calculated separately for positive and negative sentiments.\n",
    "- Then it evaluates sentiment of test sample texts\n",
    "    - eval = "
   ]
  },
  {
   "cell_type": "markdown",
   "metadata": {},
   "source": [
    "#### Installing requirements"
   ]
  },
  {
   "cell_type": "code",
   "execution_count": 65,
   "metadata": {},
   "outputs": [
    {
     "name": "stdout",
     "output_type": "stream",
     "text": [
      "Requirement already satisfied: bs4 in /home/kesha/.local/lib/python3.8/site-packages (from -r reqirements.txt (line 1)) (0.0.1)\n",
      "Requirement already satisfied: requests in /usr/lib/python3/dist-packages (from -r reqirements.txt (line 2)) (2.22.0)\n",
      "Requirement already satisfied: tqdm in /home/kesha/.local/lib/python3.8/site-packages (from -r reqirements.txt (line 3)) (4.66.1)\n",
      "Requirement already satisfied: pandas in /home/kesha/.local/lib/python3.8/site-packages (from -r reqirements.txt (line 4)) (2.0.3)\n",
      "Requirement already satisfied: pymorphy2 in /home/kesha/.local/lib/python3.8/site-packages (from -r reqirements.txt (line 5)) (0.9.1)\n",
      "Requirement already satisfied: nltk in /home/kesha/.local/lib/python3.8/site-packages (from -r reqirements.txt (line 6)) (3.8.1)\n",
      "Requirement already satisfied: scikit-learn in /home/kesha/.local/lib/python3.8/site-packages (from -r reqirements.txt (line 7)) (1.3.0)\n",
      "Requirement already satisfied: beautifulsoup4 in /home/kesha/.local/lib/python3.8/site-packages (from bs4->-r reqirements.txt (line 1)) (4.12.2)\n",
      "Requirement already satisfied: python-dateutil>=2.8.2 in /home/kesha/.local/lib/python3.8/site-packages (from pandas->-r reqirements.txt (line 4)) (2.8.2)\n",
      "Requirement already satisfied: tzdata>=2022.1 in /home/kesha/.local/lib/python3.8/site-packages (from pandas->-r reqirements.txt (line 4)) (2023.3)\n",
      "Requirement already satisfied: pytz>=2020.1 in /home/kesha/.local/lib/python3.8/site-packages (from pandas->-r reqirements.txt (line 4)) (2023.3.post1)\n",
      "Requirement already satisfied: numpy>=1.20.3; python_version < \"3.10\" in /home/kesha/.local/lib/python3.8/site-packages (from pandas->-r reqirements.txt (line 4)) (1.24.4)\n",
      "Requirement already satisfied: dawg-python>=0.7.1 in /home/kesha/.local/lib/python3.8/site-packages (from pymorphy2->-r reqirements.txt (line 5)) (0.7.2)\n",
      "Requirement already satisfied: docopt>=0.6 in /home/kesha/.local/lib/python3.8/site-packages (from pymorphy2->-r reqirements.txt (line 5)) (0.6.2)\n",
      "Requirement already satisfied: pymorphy2-dicts-ru<3.0,>=2.4 in /home/kesha/.local/lib/python3.8/site-packages (from pymorphy2->-r reqirements.txt (line 5)) (2.4.417127.4579844)\n",
      "Requirement already satisfied: regex>=2021.8.3 in /home/kesha/.local/lib/python3.8/site-packages (from nltk->-r reqirements.txt (line 6)) (2023.8.8)\n",
      "Requirement already satisfied: joblib in /home/kesha/.local/lib/python3.8/site-packages (from nltk->-r reqirements.txt (line 6)) (1.3.2)\n",
      "Requirement already satisfied: click in /usr/lib/python3/dist-packages (from nltk->-r reqirements.txt (line 6)) (7.0)\n",
      "Requirement already satisfied: scipy>=1.5.0 in /home/kesha/.local/lib/python3.8/site-packages (from scikit-learn->-r reqirements.txt (line 7)) (1.10.1)\n",
      "Requirement already satisfied: threadpoolctl>=2.0.0 in /home/kesha/.local/lib/python3.8/site-packages (from scikit-learn->-r reqirements.txt (line 7)) (3.2.0)\n",
      "Requirement already satisfied: soupsieve>1.2 in /home/kesha/.local/lib/python3.8/site-packages (from beautifulsoup4->bs4->-r reqirements.txt (line 1)) (2.5)\n",
      "Requirement already satisfied: six>=1.5 in /usr/lib/python3/dist-packages (from python-dateutil>=2.8.2->pandas->-r reqirements.txt (line 4)) (1.14.0)\n"
     ]
    }
   ],
   "source": [
    "!pip install -r reqirements.txt"
   ]
  },
  {
   "cell_type": "markdown",
   "metadata": {},
   "source": [
    "### Parsing reviews\n",
    "We parse hosting reviews from https://hosting101.ru"
   ]
  },
  {
   "cell_type": "code",
   "execution_count": 66,
   "metadata": {},
   "outputs": [],
   "source": [
    "# crawler is a local module that parses target website\n",
    "import crawler\n",
    "import random\n",
    "import pandas as pd\n",
    "from tqdm import tqdm"
   ]
  },
  {
   "cell_type": "markdown",
   "metadata": {},
   "source": [
    "#### Checking if we alreade have parsed data"
   ]
  },
  {
   "cell_type": "code",
   "execution_count": 67,
   "metadata": {},
   "outputs": [],
   "source": [
    "from pathlib import Path\n",
    "DATA_CSV = Path('./data/reviews.csv')\n",
    "SKIP_PARSING = DATA_CSV.is_file()"
   ]
  },
  {
   "cell_type": "code",
   "execution_count": 68,
   "metadata": {},
   "outputs": [
    {
     "name": "stdout",
     "output_type": "stream",
     "text": [
      "['https://hosting101.ru/amhost.net-shared', 'https://hosting101.ru/fighthost.ru', 'https://hosting101.ru/netangels.ru', 'https://hosting101.ru/anti-ddos.pro', 'https://hosting101.ru/tld24.ru', 'https://hosting101.ru/host-protection.com', 'https://hosting101.ru/docker.ru', 'https://hosting101.ru/hozv.ru-shared', 'https://hosting101.ru/work-hosting.ru', 'https://hosting101.ru/hostia.ru', 'https://hosting101.ru/hostlife.net', 'https://hosting101.ru/hoster.kg', 'https://hosting101.ru/ruhoster.com', 'https://hosting101.ru/trust-host.ru', 'https://hosting101.ru/spaceweb.ru', 'https://hosting101.ru/mgnhost.ru', 'https://hosting101.ru/apdate.by', 'https://hosting101.ru/ruelit.com', 'https://hosting101.ru/platforma.ru', 'https://hosting101.ru/mousedc.ru', 'https://hosting101.ru/zomro.com', 'https://hosting101.ru/1gb.ua', 'https://hosting101.ru/1host.by', 'https://hosting101.ru/teli.ru', 'https://hosting101.ru/thejethost.com', 'https://hosting101.ru/uadomen.com', 'https://hosting101.ru/yours-host.ru', 'https://hosting101.ru/24hg.ru', 'https://hosting101.ru/owlhost.net', 'https://hosting101.ru/hosting.kg', 'https://hosting101.ru/netx.com.ua', 'https://hosting101.ru/10byte.ru', 'https://hosting101.ru/reghost', 'https://hosting101.ru/webnames.ru', 'https://hosting101.ru/ht-systems.ru', 'https://hosting101.ru/p-telecom.ru', 'https://hosting101.ru/majorcore.com', 'https://hosting101.ru/hosti.xxx', 'https://hosting101.ru/radyx.ru', 'https://hosting101.ru/ideahost.by', 'https://hosting101.ru/hostfabrica.ru', 'https://hosting101.ru/relevate', 'https://hosting101.ru/ruweb-nn.ru', 'https://hosting101.ru/naunet.ru', 'https://hosting101.ru/domenam.ru', 'https://hosting101.ru/vdsmaster.net', 'https://hosting101.ru/netbreeze.net', 'https://hosting101.ru/onlinehoster.net', 'https://hosting101.ru/anvecloud.pw', 'https://hosting101.ru/dienet.ru', 'https://hosting101.ru/m-hoster.com', 'https://hosting101.ru/1hs.ru', 'https://hosting101.ru/vvvhost.ru', 'https://hosting101.ru/alphahost.lv', 'https://hosting101.ru/pleohost.ru', 'https://hosting101.ru/burgerhost', 'https://hosting101.ru/nkvd.pro', 'https://hosting101.ru/jino.ru', 'https://hosting101.ru/web-byte.ru', 'https://hosting101.ru/gohost.kz', 'https://hosting101.ru/wmz-host.ru', 'https://hosting101.ru/iqhost.ru', 'https://hosting101.ru/qhost.net.ua', 'https://hosting101.ru/host.kz', 'https://hosting101.ru/hoster.kz', 'https://hosting101.ru/omegahost.ru', 'https://hosting101.ru/lynx.pw', 'https://hosting101.ru/hosti.by', 'https://hosting101.ru/bittum.com', 'https://hosting101.ru/sotis.org', 'https://hosting101.ru/steephost.com', 'https://hosting101.ru/hosthost.biz', 'https://hosting101.ru/jimpo.ru', 'https://hosting101.ru/r01.ru', 'https://hosting101.ru/plooza.pro', 'https://hosting101.ru/vix-host.ru', 'https://hosting101.ru/dianhost.com', 'https://hosting101.ru/stemhost.ru', 'https://hosting101.ru/m-host.com.ua', 'https://hosting101.ru/sibdc.ru', 'https://hosting101.ru/xpe.su', 'https://hosting101.ru/ps.kz', 'https://hosting101.ru/cphost.ru', 'https://hosting101.ru/slimhost.com.ua', 'https://hosting101.ru/extmedia.by', 'https://hosting101.ru/000webhost.ru', 'https://hosting101.ru/atlex.ru', 'https://hosting101.ru/centre.ru', 'https://hosting101.ru/hostleague.ru', 'https://hosting101.ru/darkhost.pro', 'https://hosting101.ru/uanic.name', 'https://hosting101.ru/host-ua.com', 'https://hosting101.ru/tg.net.ua', 'https://hosting101.ru/nthost.ru', 'https://hosting101.ru/nginxhosting.ru', 'https://hosting101.ru/alleanza.ru', 'https://hosting101.ru/tiwehost.ru', 'https://hosting101.ru/bqhost.net', 'https://hosting101.ru/dalmaktris.ru', 'https://hosting101.ru/rackserver.ru', 'https://hosting101.ru/100mb.ru', 'https://hosting101.ru/host4u.co.ua', 'https://hosting101.ru/valuehost.ru', 'https://hosting101.ru/xlserver.org', 'https://hosting101.ru/eurobyte.ru', 'https://hosting101.ru/rubhost.com', 'https://hosting101.ru/s-host.com.ua', 'https://hosting101.ru/it-hosting.com.ua', 'https://hosting101.ru/host4.biz', 'https://hosting101.ru/modhost.pro', 'https://hosting101.ru/unihost.kz', 'https://hosting101.ru/p-host.com.ua', 'https://hosting101.ru/tcphost.net', 'https://hosting101.ru/nochost.ru', 'https://hosting101.ru/redo.com.ua', 'https://hosting101.ru/wallst.ru', 'https://hosting101.ru/landinghost.ru', 'https://hosting101.ru/roshoster.com', 'https://hosting101.ru/cishost.ru', 'https://hosting101.ru/support.by-shared', 'https://hosting101.ru/alynx.net', 'https://hosting101.ru/firsthost.lv', 'https://hosting101.ru/chestno.host', 'https://hosting101.ru/alliancehost.ru', 'https://hosting101.ru/keo.su', 'https://hosting101.ru/cmdhost.ru', 'https://hosting101.ru/4host', 'https://hosting101.ru/netfox.ru', 'https://hosting101.ru/megahoster.net', 'https://hosting101.ru/hvosting.ua', 'https://hosting101.ru/24hoster.ru', 'https://hosting101.ru/ihc.ru', 'https://hosting101.ru/adminvps.ru', 'https://hosting101.ru/onlinese.ru', 'https://hosting101.ru/it-patrol.ru', 'https://hosting101.ru/neuxor.com', 'https://hosting101.ru/hosting-service.com.ua', 'https://hosting101.ru/abusehosting.ru', 'https://hosting101.ru/hostpro.ua', 'https://hosting101.ru/xp-hosting.com', 'https://hosting101.ru/richhost.biz', 'https://hosting101.ru/go4cloud.com-shared', 'https://hosting101.ru/hos-ting.ru', 'https://hosting101.ru/ukrline.com.ua', 'https://hosting101.ru/hoslan.ru', 'https://hosting101.ru/mastak.ru', 'https://hosting101.ru/life-host.ru', 'https://hosting101.ru/hosta.by', 'https://hosting101.ru/hcli.ru', 'https://hosting101.ru/handyhost.ru', 'https://hosting101.ru/hoster.ru', 'https://hosting101.ru/fortes.pro', 'https://hosting101.ru/nvhost.ru', 'https://hosting101.ru/dobrohost.ru', 'https://hosting101.ru/hostinger.com.ua-shared', 'https://hosting101.ru/evrosys.ru', 'https://hosting101.ru/dreamsee.biz', 'https://hosting101.ru/ihost.by', 'https://hosting101.ru/e-planet.ru', 'https://hosting101.ru/hosteron.ru', 'https://hosting101.ru/profitserver.ru', 'https://hosting101.ru/lite-host.ru', 'https://hosting101.ru/merahost.ru', 'https://hosting101.ru/park-web.ru', 'https://hosting101.ru/xorek.cloud', 'https://hosting101.ru/hosting-rabbit.ru', 'https://hosting101.ru/fasth.ru', 'https://hosting101.ru/kosmohost.com', 'https://hosting101.ru/hvister.ru', 'https://hosting101.ru/getserver.net', 'https://hosting101.ru/1gb.ru', 'https://hosting101.ru/s-hosting.biz', 'https://hosting101.ru/hostmagnat.com', 'https://hosting101.ru/ultahost.com', 'https://hosting101.ru/1gb.by', 'https://hosting101.ru/service-cloud.ru', 'https://hosting101.ru/ho.ua', 'https://hosting101.ru/hothat.ru-shared', 'https://hosting101.ru/webxl.ru', 'https://hosting101.ru/primaryhost.com.ua', 'https://hosting101.ru/theideahosting.com-shared', 'https://hosting101.ru/good-host.net', 'https://hosting101.ru/ua-hosting.com.ua', 'https://hosting101.ru/tinhost.ru', 'https://hosting101.ru/vhoster.net', 'https://hosting101.ru/smartape.ru', 'https://hosting101.ru/prihost.ru', 'https://hosting101.ru/domishko.ru', 'https://hosting101.ru/taghosting.ru', 'https://hosting101.ru/link-host.net', 'https://hosting101.ru/freedom.by', 'https://hosting101.ru/ayola.net', 'https://hosting101.ru/dobryjhosting.ru', 'https://hosting101.ru/chsw.group', 'https://hosting101.ru/toplevelhost.ru', 'https://hosting101.ru/hit-host.net', 'https://hosting101.ru/moltenhost.ru', 'https://hosting101.ru/z-unit.org', 'https://hosting101.ru/volgobyte.ru', 'https://hosting101.ru/gatehost.ru', 'https://hosting101.ru/empire-host.ru', 'https://hosting101.ru/hostingland.ru', 'https://hosting101.ru/sprinthost.ru', 'https://hosting101.ru/alexhost.md', 'https://hosting101.ru/gate-host.ru', 'https://hosting101.ru/gomas.ru', 'https://hosting101.ru/hoster24.ru', 'https://hosting101.ru/friendhosting.net', 'https://hosting101.ru/cpanelhosting.ru', 'https://hosting101.ru/arvixe.ru-shared', 'https://hosting101.ru/gigspace.ru', 'https://hosting101.ru/ukrnames.com', 'https://hosting101.ru/web-leader.net', 'https://hosting101.ru/delohost.ru', 'https://hosting101.ru/machoster.ru', 'https://hosting101.ru/hosty.by', 'https://hosting101.ru/hostifree.ru', 'https://hosting101.ru/regatron.ru', 'https://hosting101.ru/globalnet.com.ua', 'https://hosting101.ru/parking.by', 'https://hosting101.ru/tuthost.com', 'https://hosting101.ru/host-food.ru', 'https://hosting101.ru/zzz.com.ua', 'https://hosting101.ru/provisov.net', 'https://hosting101.ru/ihor.ru', 'https://hosting101.ru/ukrainehosting.com', 'https://hosting101.ru/rx-host.net', 'https://hosting101.ru/prohost.com.ua', 'https://hosting101.ru/fairyhosting.com', 'https://hosting101.ru/moltenhost.com', 'https://hosting101.ru/pwhost.ru', 'https://hosting101.ru/unixhost.com.ua', 'https://hosting101.ru/2x4.ru', 'https://hosting101.ru/ukraine.com.ua', 'https://hosting101.ru/aghost.biz-1', 'https://hosting101.ru/lite-host.in', 'https://hosting101.ru/skt.ru', 'https://hosting101.ru/hussai.com', 'https://hosting101.ru/elasticweb.org', 'https://hosting101.ru/domainlines.ru', 'https://hosting101.ru/rusonyx.ru-shared', 'https://hosting101.ru/oshq.ru', 'https://hosting101.ru/altynhost.kz', 'https://hosting101.ru/optibit.ru', 'https://hosting101.ru/vestohost.ru', 'https://hosting101.ru/eserver.ru', 'https://hosting101.ru/skyhost.ru', 'https://hosting101.ru/h80.ru', 'https://hosting101.ru/activecloud.ru-shared', 'https://hosting101.ru/guard-host.ru', 'https://hosting101.ru/risp.ru', 'https://hosting101.ru/statushost.ru', 'https://hosting101.ru/prohoster.info-shared', 'https://hosting101.ru/stg-host.com', 'https://hosting101.ru/hostlend.ru', 'https://hosting101.ru/alliance-host.ru-shared', 'https://hosting101.ru/binargi.biz', 'https://hosting101.ru/ispserver.com-shared', 'https://hosting101.ru/mchost.ru', 'https://hosting101.ru/ddoshost.ru', 'https://hosting101.ru/hostpark.ua', 'https://hosting101.ru/offerhost.ru', 'https://hosting101.ru/ssd-host.ru', 'https://hosting101.ru/login.by', 'https://hosting101.ru/ceti.su', 'https://hosting101.ru/dehost.biz', 'https://hosting101.ru/cyberhost.biz', 'https://hosting101.ru/e-style-isp', 'https://hosting101.ru/realhost.com.ua', 'https://hosting101.ru/host96.ru', 'https://hosting101.ru/webservis.ru', 'https://hosting101.ru/time-host.net', 'https://hosting101.ru/flyjust', 'https://hosting101.ru/na.by', 'https://hosting101.ru/robobill.net', 'https://hosting101.ru/fozzy.com', 'https://hosting101.ru/96host.ru-free', 'https://hosting101.ru/mirahub.ru', 'https://hosting101.ru/eurohost.com', 'https://hosting101.ru/shneider-host.ru', 'https://hosting101.ru/worldbyte.net', 'https://hosting101.ru/101domain.ru', 'https://hosting101.ru/devsoft-host', 'https://hosting101.ru/rackstore-shared', 'https://hosting101.ru/t3y.ru', 'https://hosting101.ru/4host.com.ua', 'https://hosting101.ru/prohosting.com.ua', 'https://hosting101.ru/hyperhost.com.ua', 'https://hosting101.ru/dsn.host', 'https://hosting101.ru/hostink.ru', 'https://hosting101.ru/multihost.ru', 'https://hosting101.ru/abcd.host-shared', 'https://hosting101.ru/sibhoster.ru', 'https://hosting101.ru/natahost.ru', 'https://hosting101.ru/tophosting.com.ua', 'https://hosting101.ru/goodnet.com.ua', 'https://hosting101.ru/h4s.ru-shared', 'https://hosting101.ru/ehost.by', 'https://hosting101.ru/evrohost.com', 'https://hosting101.ru/leadhost.ru', 'https://hosting101.ru/lepus.su', 'https://hosting101.ru/aofy.pro', 'https://hosting101.ru/allhostings.ru', 'https://hosting101.ru/fastnext.ru', 'https://hosting101.ru/brunomedia.ru', 'https://hosting101.ru/robo-host.ru', 'https://hosting101.ru/besthost.by', 'https://hosting101.ru/hosted.ua', 'https://hosting101.ru/host.sibnet.ru', 'https://hosting101.ru/inthostingpro.com', 'https://hosting101.ru/jehost.ru', 'https://hosting101.ru/webhost31.ru', 'https://hosting101.ru/airhosting.ru', 'https://hosting101.ru/hostiman.ru-shared', 'https://hosting101.ru/hostland.ru', 'https://hosting101.ru/stalkerhost.net', 'https://hosting101.ru/nameserver.ru', 'https://hosting101.ru/garenda.ru', 'https://hosting101.ru/neohost.com.ua', 'https://hosting101.ru/pgonline.ru', 'https://hosting101.ru/coopertino.ru', 'https://hosting101.ru/hostrace.ru', 'https://hosting101.ru/freehost.com.ua', 'https://hosting101.ru/x-host.ua', 'https://hosting101.ru/webhost1.ru', 'https://hosting101.ru/state24', 'https://hosting101.ru/flynet.pro', 'https://hosting101.ru/majordomo.ru', 'https://hosting101.ru/cityhost.com.ua', 'https://hosting101.ru/relcom.host', 'https://hosting101.ru/uahosting.com.ua', 'https://hosting101.ru/beget.ru', 'https://hosting101.ru/host-express.ru', 'https://hosting101.ru/beget.com.ua', 'https://hosting101.ru/hostzealot.com-shared', 'https://hosting101.ru/24x7s.ru', 'https://hosting101.ru/hostsan.ru', 'https://hosting101.ru/design.r52.ru', 'https://hosting101.ru/hostinger.ru-shared', 'https://hosting101.ru/echo-host.com', 'https://hosting101.ru/bashhosting.ru', 'https://hosting101.ru/victorian.host', 'https://hosting101.ru/ddosov.net', 'https://hosting101.ru/galaxydata.ru', 'https://hosting101.ru/host-eiweb.net', 'https://hosting101.ru/domen-hosting.net', 'https://hosting101.ru/freehost.ua', 'https://hosting101.ru/hqhost.net', 'https://hosting101.ru/guard-host.net', 'https://hosting101.ru/ru-center', 'https://hosting101.ru/fullspace.ru', 'https://hosting101.ru/hostzilla.ru', 'https://hosting101.ru/vfirst.ru', 'https://hosting101.ru/steadyhost.ru', 'https://hosting101.ru/h2m.ru', 'https://hosting101.ru/netplace.ru', 'https://hosting101.ru/racktech.ru-shared', 'https://hosting101.ru/best-hoster.ru', 'https://hosting101.ru/abc-server.com-shared', 'https://hosting101.ru/mayercloud-%D1%85%D0%BE%D1%81%D1%82%D0%B8%D0%BD%D0%B3-%D0%B2-%D0%BC%D0%B5%D1%81%D1%81%D0%B5%D0%BD%D0%B4%D0%B6%D0%B5%D1%80%D0%B5', 'https://hosting101.ru/rus-hosting.ru', 'https://hosting101.ru/hostimru.net', 'https://hosting101.ru/slavhost.ru', 'https://hosting101.ru/deltahost.com.ua', 'https://hosting101.ru/wishhost.net', 'https://hosting101.ru/hoster.by', 'https://hosting101.ru/majorhost.net', 'https://hosting101.ru/cloverhost.net', 'https://hosting101.ru/mainhost.com.ua', 'https://hosting101.ru/dualspace.ru', 'https://hosting101.ru/sherlockhost.ru', 'https://hosting101.ru/hostmerch.com', 'https://hosting101.ru/memhost.ru', 'https://hosting101.ru/hazerhost.com', 'https://hosting101.ru/timeweb.ru', 'https://hosting101.ru/qwebix.ru-shared', 'https://hosting101.ru/avahost.ru-shared', 'https://hosting101.ru/hostglobal.ru', 'https://hosting101.ru/borneo.kg', 'https://hosting101.ru/besthosting.ua', 'https://hosting101.ru/hostyes.ru', 'https://hosting101.ru/hosting.giveweb.ru', 'https://hosting101.ru/infobox.ru', 'https://hosting101.ru/gudzonhost.ru', 'https://hosting101.ru/cryparrot.pw', 'https://hosting101.ru/yutex.ru', 'https://hosting101.ru/1domhost.ru', 'https://hosting101.ru/unit-is.com', 'https://hosting101.ru/best-hosting.ru', 'https://hosting101.ru/nic.ua', 'https://hosting101.ru/hostfast.ru', 'https://hosting101.ru/bitte.com.ua', 'https://hosting101.ru/bblux.ru', 'https://hosting101.ru/x5x.ru-shared', 'https://hosting101.ru/4ba.ru', 'https://hosting101.ru/host-host.ru', 'https://hosting101.ru/thehost.com.ua', 'https://hosting101.ru/avahost.ua', 'https://hosting101.ru/asiainfo.kg', 'https://hosting101.ru/ukrhosting.com', 'https://hosting101.ru/hosting4django.net', 'https://hosting101.ru/schweitzer.io', 'https://hosting101.ru/bcr.by', 'https://hosting101.ru/komtet.ru', 'https://hosting101.ru/fs-host.net', 'https://hosting101.ru/colobrigde.net-shared', 'https://hosting101.ru/webguard.pro', 'https://hosting101.ru/hosterbox.ru', 'https://hosting101.ru/spring.hosting', 'https://hosting101.ru/%D0%B1%D0%B5%D1%81%D0%BF%D0%BB%D0%B0%D1%82%D0%BD%D1%8B%D0%B9-%D1%85%D0%BE%D1%81%D1%82%D0%B8%D0%BD%D0%B3-host4.men', 'https://hosting101.ru/mirohost.net', 'https://hosting101.ru/netter.ru', 'https://hosting101.ru/hb.by', 'https://hosting101.ru/vline.ru', 'https://hosting101.ru/eskhosting.ru', 'https://hosting101.ru/radisol.ru', 'https://hosting101.ru/pharmhost.net', 'https://hosting101.ru/garmtech.lv', 'https://hosting101.ru/reg.ru', 'https://hosting101.ru/parking.ru', 'https://hosting101.ru/idhost.kz-dedicated', 'https://hosting101.ru/hostingru.net', 'https://hosting101.ru/appletec.ru', 'https://hosting101.ru/ripnet.ru', 'https://hosting101.ru/aiwebhost.com', 'https://hosting101.ru/masterhost.ru', 'https://hosting101.ru/myhosti.ru', 'https://hosting101.ru/aquinas.su', 'https://hosting101.ru/apriorix.ru', 'https://hosting101.ru/corbina', 'https://hosting101.ru/x-hosting.com.ua', 'https://hosting101.ru/goldhost.ru', 'https://hosting101.ru/sim-networks.com', 'https://hosting101.ru/mxis.ru', 'https://hosting101.ru/hostline.ru-shared', 'https://hosting101.ru/ramzet.net', 'https://hosting101.ru/evronetwork.com', 'https://hosting101.ru/hostlix.ru', 'https://hosting101.ru/west-hoster.by', 'https://hosting101.ru/netengi.com', 'https://hosting101.ru/onelim.net', 'https://hosting101.ru/ruskyhost.ru', 'https://hosting101.ru/yota-host.ru-shared', 'https://hosting101.ru/airhosting.net.ua', 'https://hosting101.ru/pagemaster.ru', 'https://hosting101.ru/ipipe.ru', 'https://hosting101.ru/locum.ru', 'https://hosting101.ru/hoflex', 'https://hosting101.ru/0hosting.net.ua', 'https://hosting101.ru/upgradehost.ru', 'https://hosting101.ru/fornex.com-shared', 'https://hosting101.ru/advanta.org', 'https://hosting101.ru/gigahost.com.ru', 'https://hosting101.ru/justhost.ru', 'https://hosting101.ru/redz.ru', 'https://hosting101.ru/ftechhost.ru', 'https://hosting101.ru/hostony.ru', 'https://hosting101.ru/cyber-park.ru', 'https://hosting101.ru/rufox.ru-shared', 'https://hosting101.ru/hosting-cloud.com.ua', 'https://hosting101.ru/uapeer.eu', 'https://hosting101.ru/megahost.kz', 'https://hosting101.ru/fastfox.pro', 'https://hosting101.ru/wmrs.ru', 'https://hosting101.ru/globalic.com.ua', 'https://hosting101.ru/openhosting.ru', 'https://hosting101.ru/bernet.ru', 'https://hosting101.ru/wphost.me', 'https://hosting101.ru/dekem.net', 'https://hosting101.ru/vdscenter.ru', 'https://hosting101.ru/seo-hoster.ru', 'https://hosting101.ru/worldit.org', 'https://hosting101.ru/hatahost.ru', 'https://hosting101.ru/radiushost.ru', 'https://hosting101.ru/active.by', 'https://hosting101.ru/moyhosting.com', 'https://hosting101.ru/massaca.net', 'https://hosting101.ru/tanhost.ua', 'https://hosting101.ru/adamant.net', 'https://hosting101.ru/rigweb.ru-shared', 'https://hosting101.ru/erahost.ru', 'https://hosting101.ru/gmhost.com.ua-shared', 'https://hosting101.ru/lifehosting.com.ua', 'https://hosting101.ru/mtw.ru', 'https://hosting101.ru/%D0%BF%D0%BB%D0%B0%D1%82%D0%BD%D1%8B%D0%B9-%D0%B8-%D0%B1%D0%B5%D1%81%D0%BF%D0%BB%D0%B0%D1%82%D0%BD%D1%8B%D0%B9-%D1%85%D0%BE%D1%81%D1%82%D0%B8%D0%BD%D0%B3-%D0%BE%D1%82-%D0%BA%D0%BE%D0%BC%D0%BF%D0%B0%D0%BD%D0%B8%D0%B8-emiro.', 'https://hosting101.ru/siteko.net', 'https://hosting101.ru/2wx.su', 'https://hosting101.ru/hostweek.net', 'https://hosting101.ru/prohost.kg', 'https://hosting101.ru/ru-hoster.com', 'https://hosting101.ru/space.kz-shared', 'https://hosting101.ru/dominant-telecom', 'https://hosting101.ru/xyberry.com', 'https://hosting101.ru/rx-name.ua', 'https://hosting101.ru/hosterin.ru', 'https://hosting101.ru/serv-tech.ru', 'https://hosting101.ru/hosterproff.ru', 'https://hosting101.ru/osahost.ru', 'https://hosting101.ru/flash-host.ru', 'https://hosting101.ru/onyx.net.ua']\n"
     ]
    }
   ],
   "source": [
    "if SKIP_PARSING:\n",
    "    print(f'Parsing is skipped since parsed file already exists. Delete {DATA_CSV} if you want to parse new data.')\n",
    "else:\n",
    "    hosts = crawler.get_hosts(500)\n",
    "    print(hosts)"
   ]
  },
  {
   "cell_type": "code",
   "execution_count": 69,
   "metadata": {},
   "outputs": [
    {
     "name": "stderr",
     "output_type": "stream",
     "text": [
      "Hosts:   0%|          | 0/500 [00:00<?, ?it/s]"
     ]
    },
    {
     "name": "stderr",
     "output_type": "stream",
     "text": [
      "Hosts:  16%|█▌        | 81/500 [03:27<17:55,  2.57s/it]\n"
     ]
    },
    {
     "ename": "KeyboardInterrupt",
     "evalue": "",
     "output_type": "error",
     "traceback": [
      "\u001b[0;31m---------------------------------------------------------------------------\u001b[0m",
      "\u001b[0;31mKeyboardInterrupt\u001b[0m                         Traceback (most recent call last)",
      "\u001b[1;32m/home/kesha/Documents/Uni/Автобрея/HW/nlp/hw1/main.ipynb Cell 9\u001b[0m line \u001b[0;36m9\n\u001b[1;32m      <a href='vscode-notebook-cell:/home/kesha/Documents/Uni/%D0%90%D0%B2%D1%82%D0%BE%D0%B1%D1%80%D0%B5%D1%8F/HW/nlp/hw1/main.ipynb#X10sZmlsZQ%3D%3D?line=3'>4</a>\u001b[0m reviews \u001b[39m=\u001b[39m {\n\u001b[1;32m      <a href='vscode-notebook-cell:/home/kesha/Documents/Uni/%D0%90%D0%B2%D1%82%D0%BE%D0%B1%D1%80%D0%B5%D1%8F/HW/nlp/hw1/main.ipynb#X10sZmlsZQ%3D%3D?line=4'>5</a>\u001b[0m     \u001b[39m'\u001b[39m\u001b[39mpos\u001b[39m\u001b[39m'\u001b[39m: [],\n\u001b[1;32m      <a href='vscode-notebook-cell:/home/kesha/Documents/Uni/%D0%90%D0%B2%D1%82%D0%BE%D0%B1%D1%80%D0%B5%D1%8F/HW/nlp/hw1/main.ipynb#X10sZmlsZQ%3D%3D?line=5'>6</a>\u001b[0m     \u001b[39m'\u001b[39m\u001b[39mneg\u001b[39m\u001b[39m'\u001b[39m: []\n\u001b[1;32m      <a href='vscode-notebook-cell:/home/kesha/Documents/Uni/%D0%90%D0%B2%D1%82%D0%BE%D0%B1%D1%80%D0%B5%D1%8F/HW/nlp/hw1/main.ipynb#X10sZmlsZQ%3D%3D?line=6'>7</a>\u001b[0m }\n\u001b[1;32m      <a href='vscode-notebook-cell:/home/kesha/Documents/Uni/%D0%90%D0%B2%D1%82%D0%BE%D0%B1%D1%80%D0%B5%D1%8F/HW/nlp/hw1/main.ipynb#X10sZmlsZQ%3D%3D?line=7'>8</a>\u001b[0m \u001b[39mfor\u001b[39;00m h \u001b[39min\u001b[39;00m tqdm(hosts, desc\u001b[39m=\u001b[39m\u001b[39m'\u001b[39m\u001b[39mHosts\u001b[39m\u001b[39m'\u001b[39m):\n\u001b[0;32m----> <a href='vscode-notebook-cell:/home/kesha/Documents/Uni/%D0%90%D0%B2%D1%82%D0%BE%D0%B1%D1%80%D0%B5%D1%8F/HW/nlp/hw1/main.ipynb#X10sZmlsZQ%3D%3D?line=8'>9</a>\u001b[0m     reviews[\u001b[39m'\u001b[39m\u001b[39mpos\u001b[39m\u001b[39m'\u001b[39m] \u001b[39m+\u001b[39m\u001b[39m=\u001b[39m crawler\u001b[39m.\u001b[39;49mparse_host(h, positive\u001b[39m=\u001b[39;49m\u001b[39mTrue\u001b[39;49;00m, delay\u001b[39m=\u001b[39;49m(\u001b[39m0.5\u001b[39;49m, \u001b[39m1\u001b[39;49m))\n\u001b[1;32m     <a href='vscode-notebook-cell:/home/kesha/Documents/Uni/%D0%90%D0%B2%D1%82%D0%BE%D0%B1%D1%80%D0%B5%D1%8F/HW/nlp/hw1/main.ipynb#X10sZmlsZQ%3D%3D?line=9'>10</a>\u001b[0m     reviews[\u001b[39m'\u001b[39m\u001b[39mneg\u001b[39m\u001b[39m'\u001b[39m] \u001b[39m+\u001b[39m\u001b[39m=\u001b[39m crawler\u001b[39m.\u001b[39mparse_host(h, positive\u001b[39m=\u001b[39m\u001b[39mFalse\u001b[39;00m, delay\u001b[39m=\u001b[39m(\u001b[39m0.5\u001b[39m, \u001b[39m1\u001b[39m))\n\u001b[1;32m     <a href='vscode-notebook-cell:/home/kesha/Documents/Uni/%D0%90%D0%B2%D1%82%D0%BE%D0%B1%D1%80%D0%B5%D1%8F/HW/nlp/hw1/main.ipynb#X10sZmlsZQ%3D%3D?line=11'>12</a>\u001b[0m \u001b[39mprint\u001b[39m(\u001b[39mf\u001b[39m\u001b[39m'\u001b[39m\u001b[39mPre normalization pos: \u001b[39m\u001b[39m{\u001b[39;00m\u001b[39mlen\u001b[39m(reviews[\u001b[39m\"\u001b[39m\u001b[39mpos\u001b[39m\u001b[39m\"\u001b[39m])\u001b[39m}\u001b[39;00m\u001b[39m; neg: \u001b[39m\u001b[39m{\u001b[39;00m\u001b[39mlen\u001b[39m(reviews[\u001b[39m\"\u001b[39m\u001b[39mneg\u001b[39m\u001b[39m\"\u001b[39m])\u001b[39m}\u001b[39;00m\u001b[39m'\u001b[39m)\n",
      "File \u001b[0;32m~/Documents/Uni/Автобрея/HW/nlp/hw1/crawler/_hosting.py:55\u001b[0m, in \u001b[0;36mparse_host\u001b[0;34m(url, positive, max_n, delay)\u001b[0m\n\u001b[1;32m     53\u001b[0m content_blocks \u001b[39m=\u001b[39m [ x\u001b[39m.\u001b[39mfind(\u001b[39m'\u001b[39m\u001b[39mdiv\u001b[39m\u001b[39m'\u001b[39m, class_\u001b[39m=\u001b[39m\u001b[39m'\u001b[39m\u001b[39mcontent\u001b[39m\u001b[39m'\u001b[39m) \u001b[39mfor\u001b[39;00m x \u001b[39min\u001b[39;00m comment_blocks ]\n\u001b[1;32m     54\u001b[0m comments \u001b[39m=\u001b[39m [ x\u001b[39m.\u001b[39mfind(\u001b[39m'\u001b[39m\u001b[39mp\u001b[39m\u001b[39m'\u001b[39m)\u001b[39m.\u001b[39mtext \u001b[39mfor\u001b[39;00m x \u001b[39min\u001b[39;00m content_blocks ]\n\u001b[0;32m---> 55\u001b[0m \u001b[39mif\u001b[39;00m delay: sleep(delay[\u001b[39m0\u001b[39;49m] \u001b[39m+\u001b[39;49m random\u001b[39m.\u001b[39;49mrandom() \u001b[39m*\u001b[39;49m (delay[\u001b[39m1\u001b[39;49m] \u001b[39m-\u001b[39;49m delay[\u001b[39m0\u001b[39;49m]))\n\u001b[1;32m     56\u001b[0m \u001b[39mreturn\u001b[39;00m comments\n",
      "\u001b[0;31mKeyboardInterrupt\u001b[0m: "
     ]
    }
   ],
   "source": [
    "if SKIP_PARSING:\n",
    "    print(f'Parsing is skipped since parsed file already exists. Delete {DATA_CSV} if you want to parse new data.')\n",
    "else:\n",
    "    reviews = {\n",
    "        'pos': [],\n",
    "        'neg': []\n",
    "    }\n",
    "    for h in tqdm(hosts, desc='Hosts'):\n",
    "        reviews['pos'] += crawler.parse_host(h, positive=True, delay=(0.5, 1))\n",
    "        reviews['neg'] += crawler.parse_host(h, positive=False, delay=(0.5, 1))\n",
    "    \n",
    "    print(f'Pre normalization pos: {len(reviews[\"pos\"])}; neg: {len(reviews[\"neg\"])}')\n",
    "    # equalizing negative and positive review amounts\n",
    "    if len(reviews['pos']) < len(reviews['neg']):\n",
    "        reviews['neg'] = random.sample(reviews['neg'], len(reviews['pos']))\n",
    "    elif len(reviews['neg']) < len(reviews['pos']):\n",
    "        reviews['pos'] = random.sample(reviews['pos'], len(reviews['neg']))\n",
    "    print(f'Post normalization pos: {len(reviews[\"pos\"])}; neg: {len(reviews[\"neg\"])}')"
   ]
  },
  {
   "cell_type": "code",
   "execution_count": null,
   "metadata": {},
   "outputs": [
    {
     "name": "stdout",
     "output_type": "stream",
     "text": [
      "Parsing is skipped since parsed file already exists. Delete data/reviews.csv if you want to parse new data.\n"
     ]
    }
   ],
   "source": [
    "# saving results to csv\n",
    "if SKIP_PARSING:\n",
    "    print(f'Parsing is skipped since parsed file already exists. Delete {DATA_CSV} if you want to parse new data.')\n",
    "else:\n",
    "    df = pd.DataFrame(reviews)\n",
    "    df.to_csv(DATA_CSV, index=False)\n",
    "    print(f'Saved parsed data to {DATA_CSV}')"
   ]
  },
  {
   "cell_type": "markdown",
   "metadata": {},
   "source": [
    "#### Loading data"
   ]
  },
  {
   "cell_type": "code",
   "execution_count": null,
   "metadata": {},
   "outputs": [
    {
     "data": {
      "text/plain": [
       "' pos = pos[:200]\\nneg = neg[:200] '"
      ]
     },
     "execution_count": 58,
     "metadata": {},
     "output_type": "execute_result"
    }
   ],
   "source": [
    "# Loading data from csv\n",
    "df = pd.read_csv(DATA_CSV)\n",
    "pos, neg = df[\"pos\"].to_list(), df[\"neg\"].to_list()\n",
    "del df\n",
    "\n",
    "\"\"\" pos = pos[:200]\n",
    "neg = neg[:200] \"\"\""
   ]
  },
  {
   "cell_type": "markdown",
   "metadata": {},
   "source": [
    "#### Splitting into test and reference (\"train\") groups"
   ]
  },
  {
   "cell_type": "code",
   "execution_count": null,
   "metadata": {},
   "outputs": [
    {
     "data": {
      "text/plain": [
       "'Pos: test=330, train=1868; Neg: test=330, train=1868'"
      ]
     },
     "execution_count": 59,
     "metadata": {},
     "output_type": "execute_result"
    }
   ],
   "source": [
    "# Shuffling lists before splitting into\n",
    "test_rat = 0.15\n",
    "random.shuffle(pos)\n",
    "random.shuffle(neg)\n",
    "# Splitting samples\n",
    "split_pos_idx = int(len(pos) * (1 - test_rat))\n",
    "split_neg_idx = int(len(neg) * (1 - test_rat))\n",
    "pos_train, pos_test = pos[:split_pos_idx], pos[split_pos_idx:]\n",
    "neg_train, neg_test = neg[:split_neg_idx], neg[split_neg_idx:]\n",
    "del pos\n",
    "del neg\n",
    "f\"Pos: test={len(pos_test)}, train={len(pos_train)}; Neg: test={len(neg_test)}, train={len(neg_train)}\""
   ]
  },
  {
   "cell_type": "markdown",
   "metadata": {},
   "source": [
    "### Train group processing"
   ]
  },
  {
   "cell_type": "code",
   "execution_count": null,
   "metadata": {},
   "outputs": [
    {
     "name": "stderr",
     "output_type": "stream",
     "text": [
      "[nltk_data] Downloading package punkt to /home/kesha/nltk_data...\n",
      "[nltk_data]   Package punkt is already up-to-date!\n",
      "[nltk_data] Downloading package stopwords to /home/kesha/nltk_data...\n",
      "[nltk_data]   Package stopwords is already up-to-date!\n"
     ]
    }
   ],
   "source": [
    "from pymorphy2 import MorphAnalyzer\n",
    "from tqdm import tqdm\n",
    "from typing import List, Tuple, Dict\n",
    "import nltk\n",
    "from nltk.corpus import stopwords\n",
    "import random\n",
    "nltk.download('punkt')\n",
    "nltk.download('stopwords')\n",
    "\n",
    "morph = MorphAnalyzer()"
   ]
  },
  {
   "cell_type": "code",
   "execution_count": null,
   "metadata": {},
   "outputs": [
    {
     "name": "stderr",
     "output_type": "stream",
     "text": [
      "  0%|          | 6/1868 [00:00<00:36, 50.73it/s]"
     ]
    },
    {
     "name": "stderr",
     "output_type": "stream",
     "text": [
      "100%|██████████| 1868/1868 [00:24<00:00, 77.14it/s] \n",
      "100%|██████████| 1868/1868 [00:35<00:00, 53.18it/s]\n"
     ]
    },
    {
     "data": {
      "text/plain": [
       "('отличный хостинг грамотный технический поддержка пользоваться год',\n",
       " 'очень советовать пользоваться услуга мирохост отвратительный качество')"
      ]
     },
     "execution_count": 61,
     "metadata": {},
     "output_type": "execute_result"
    }
   ],
   "source": [
    "# Tokenization\n",
    "\n",
    "stoplist = set(stopwords.words('russian'))\n",
    "def tokenizing_pipeline(text: str) -> List[str]:\n",
    "    # Tokenization\n",
    "    tokens = nltk.tokenize.word_tokenize(text.lower(), language=\"russian\")\n",
    "    # removing punctuation\n",
    "    tokens = filter(lambda x: x.isalpha(), tokens)\n",
    "    # Stemming words\n",
    "    stems = map(lambda x: morph.parse(x)[0].normal_form, tokens)\n",
    "    # Removing stopwords\n",
    "    stems = filter(lambda x: not x in stoplist, stems)\n",
    "    return list(stems)\n",
    "\n",
    "pos_train = [ tokenizing_pipeline(x) for x in tqdm(pos_train) ]\n",
    "neg_train = [ tokenizing_pipeline(x) for x in tqdm(neg_train) ]\n",
    "\n",
    "' '.join(random.choice(pos_train)[:10]), ' '.join(random.choice(neg_train)[:10])"
   ]
  },
  {
   "cell_type": "markdown",
   "metadata": {},
   "source": [
    "#### Counting frequencies"
   ]
  },
  {
   "cell_type": "code",
   "execution_count": null,
   "metadata": {},
   "outputs": [
    {
     "data": {
      "text/plain": [
       "([('всё', 0.02278874220068018),\n",
       "  ('нравиться', 0.002222638781029912),\n",
       "  ('поддержка', 0.019227164394933455),\n",
       "  ('быстрый', 0.004204268537610798),\n",
       "  ('отличие', 0.0004284604879093806)],\n",
       " [('сайт', 0.03602850515140749),\n",
       "  ('хостинг', 0.02842155858811728),\n",
       "  ('полный', 0.001609161773003699),\n",
       "  ('уходить', 0.0007732335792355437),\n",
       "  ('точнее', 0.00018808384359783495)])"
      ]
     },
     "execution_count": 62,
     "metadata": {},
     "output_type": "execute_result"
    }
   ],
   "source": [
    "from collections import Counter, defaultdict\n",
    "minimum_freq = 5\n",
    "\n",
    "def count_sample_freq(arr: List[List[str]]) -> defaultdict:\n",
    "    \"\"\"Counts normalized word frequency from all texts in given list.\n",
    "    Normalized means a float number [0, 1] = word_freq / total_words \"\"\"\n",
    "    counter = Counter()\n",
    "    for text in arr:\n",
    "        for word in text:\n",
    "            counter[word] += 1\n",
    "    # Converting to list of tuples\n",
    "    freq_list = list(counter.items())\n",
    "    # Filtering out low frequest words\n",
    "    freq_list = [ (w, f) for w, f in freq_list if f > minimum_freq ]\n",
    "    # Counting total words\n",
    "    total_words = 0\n",
    "    for _, f in freq_list: total_words += f\n",
    "    # Calculating normalized freq\n",
    "    freq_list = { w: f / total_words for w, f in freq_list }\n",
    "    return defaultdict(float, freq_list)\n",
    "\n",
    "pos_freq = count_sample_freq(pos_train)\n",
    "neg_freq = count_sample_freq(neg_train)\n",
    "list(pos_freq.items())[:5], list(neg_freq.items())[:5]"
   ]
  },
  {
   "cell_type": "markdown",
   "metadata": {},
   "source": [
    "### Testing on test samples"
   ]
  },
  {
   "cell_type": "code",
   "execution_count": null,
   "metadata": {},
   "outputs": [
    {
     "name": "stderr",
     "output_type": "stream",
     "text": [
      "100%|██████████| 330/330 [00:04<00:00, 71.07it/s]\n",
      "100%|██████████| 330/330 [00:06<00:00, 48.02it/s]"
     ]
    },
    {
     "name": "stdout",
     "output_type": "stream",
     "text": [
      "Accuracy: 0.6924242424242424\n"
     ]
    },
    {
     "name": "stderr",
     "output_type": "stream",
     "text": [
      "\n"
     ]
    }
   ],
   "source": [
    "def eval_sentiment(text) -> int:\n",
    "    \"\"\"Returns 1 if positive and -1 if negative\"\"\"\n",
    "    tokens = tokenizing_pipeline(text)\n",
    "    sent_eval = 0\n",
    "    for tkn in tokens:\n",
    "        sent_eval += pos_freq[tkn] - neg_freq[tkn]\n",
    "    return 1 if sent_eval > 0 else -1\n",
    "\n",
    "correct = incorrect = 0\n",
    "\n",
    "for txt in tqdm(pos_test):\n",
    "    sentiment = eval_sentiment(txt)\n",
    "    correct += 1 * (sentiment == 1)\n",
    "    incorrect += 1 * (sentiment != 1)\n",
    "for txt in tqdm(neg_test):\n",
    "    sentiment = eval_sentiment(txt)\n",
    "    correct += 1 * (sentiment == -1)\n",
    "    incorrect += 1 * (sentiment != -1)\n",
    "\n",
    "print(f\"Accuracy: {correct / (correct + incorrect)}\")"
   ]
  },
  {
   "cell_type": "code",
   "execution_count": null,
   "metadata": {},
   "outputs": [
    {
     "name": "stdout",
     "output_type": "stream",
     "text": [
      "Accuracy: 0.6924242424242424\n",
      "\n",
      "minimum_freq: 5\n"
     ]
    }
   ],
   "source": [
    "print(f\"\"\"Accuracy: {correct / (correct + incorrect)}\\n\n",
    "minimum_freq: {minimum_freq}\"\"\")"
   ]
  }
 ],
 "metadata": {
  "kernelspec": {
   "display_name": "py3.11_global",
   "language": "python",
   "name": "python3"
  },
  "language_info": {
   "codemirror_mode": {
    "name": "ipython",
    "version": 3
   },
   "file_extension": ".py",
   "mimetype": "text/x-python",
   "name": "python",
   "nbconvert_exporter": "python",
   "pygments_lexer": "ipython3",
   "version": "3.8.10"
  },
  "orig_nbformat": 4
 },
 "nbformat": 4,
 "nbformat_minor": 2
}
