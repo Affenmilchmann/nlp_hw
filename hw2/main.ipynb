{
 "cells": [
  {
   "cell_type": "markdown",
   "metadata": {},
   "source": [
    "### Дз 2\n",
    "1. Я выбрал тексты из постов группы вк [Карусель Заря](https://vk.com/club168307086). Думаю они подходят так как там довольно разнообразный лексикон и встречаются необычные словоформы.\n",
    "2. Три теггера - stanza, pymorphy, natasha. Часть сравнения теггеров находится в папке [tournament](./tournament/). \n",
    "    - [main.py](./tournament/main.py) прогоняет весь турнир и выводит результаты accuracy. \n",
    "    - [tag_manual.py](./tournament/tag_manual.py) простой скриптик с UI для разметки референсного корпуса.\n",
    "    - [tag_natasha.py](./tournament/tag_natasha.py), [tag_pymorphy.py](./tournament/tag_pymorphy.py), [tag_stanza.py](./tournament/tag_stanza.py) - модули, размечающие текст используя соответсвующий тэггер и сохранающие результаты в файлы в [parsed_data](./tournament/parsed_data/). \n",
    "    - [tag_toolkit.py](./tournament/tag_toolkit.py) - функции помошники для читабельности и компактности кода\n",
    "3. accuracy выводится в конце исполнения [main.py](./tournament/main.py). Конвертер POS тэгов пришлось написать для pymorphy тк он использует не universal pos tags."
   ]
  },
  {
   "cell_type": "code",
   "execution_count": 2,
   "metadata": {},
   "outputs": [
    {
     "name": "stderr",
     "output_type": "stream",
     "text": [
      "INFO:root:Ready data paths:\n",
      "{'natasha': '/home/kesha/dev/hse/nlp_hw/hw2/tournament/parsed_data/natasha.xml',\n",
      " 'pymorphy': '/home/kesha/dev/hse/nlp_hw/hw2/tournament/parsed_data/pymorphy.xml',\n",
      " 'stanza': '/home/kesha/dev/hse/nlp_hw/hw2/tournament/parsed_data/stanza.xml'}\n",
      "INFO:tournament.main:Accuracy of NATASHA: 0.82464\n",
      "INFO:tournament.main:Accuracy of PYMORPHY: 0.80569\n",
      "INFO:tournament.main:Accuracy of STANZA: 0.83886\n"
     ]
    }
   ],
   "source": [
    "from tournament import run_tournament\n",
    "run_tournament()"
   ]
  }
 ],
 "metadata": {
  "kernelspec": {
   "display_name": "venv",
   "language": "python",
   "name": "python3"
  },
  "language_info": {
   "codemirror_mode": {
    "name": "ipython",
    "version": 3
   },
   "file_extension": ".py",
   "mimetype": "text/x-python",
   "name": "python",
   "nbconvert_exporter": "python",
   "pygments_lexer": "ipython3",
   "version": "3.10.12"
  },
  "orig_nbformat": 4
 },
 "nbformat": 4,
 "nbformat_minor": 2
}
